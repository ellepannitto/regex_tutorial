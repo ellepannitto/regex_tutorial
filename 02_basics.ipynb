{
 "cells": [
  {
   "cell_type": "markdown",
   "metadata": {},
   "source": [
    "## Importing the interpreter in `python`\n",
    "\n",
    "Python's module for implementing regex is called `re`: <https://docs.python.org/3/library/re.html#module-re>\n",
    "\n",
    "This is a standard library, so no installation is needed!\n",
    "\n",
    "Another popular module is `regex` (<https://pypi.org/project/regex/>), which offers some additional functionality, more specifically it provides full unicode support.\n",
    "This has to be explicitly installed (e.g., through `pip`)."
   ]
  },
  {
   "cell_type": "code",
   "execution_count": 3,
   "metadata": {},
   "outputs": [],
   "source": [
    "import re"
   ]
  },
  {
   "cell_type": "markdown",
   "metadata": {},
   "source": [
    "We will use the `findall` function:\n",
    "<https://docs.python.org/3/library/re.html#re.findall>\n",
    "```\n",
    "re.findall(pattern, string, flags=0)\n",
    " \tReturn all non-overlapping matches of pattern in string, as a list of strings or tuples. The string is scanned left-to-right, and matches are returned in the order found. Empty matches are included in the result.\n",
    "\tThe result depends on the number of capturing groups in the pattern. If there are no groups, return a list of strings matching the whole pattern. If there is exactly one group, return a list of strings matching that group. If multiple groups are present, return a list of tuples of strings matching the groups. Non-capturing groups do not affect the form of the result.\n",
    "```"
   ]
  },
  {
   "cell_type": "markdown",
   "metadata": {},
   "source": [
    "## A string is itself a regular expression\n",
    "\n",
    "The simplest case of regular expression is a string itself\n",
    "\n",
    "e.g., `r\"contro\"` which represents the regular language `L = {\"contro\"}`\n",
    "\n",
    "NB: the `r` placed right before the definition of the python string ensures that the string is interpreted as a regular expression"
   ]
  },
  {
   "cell_type": "code",
   "execution_count": 4,
   "metadata": {},
   "outputs": [
    {
     "data": {
      "text/plain": [
       "['contro']"
      ]
     },
     "execution_count": 4,
     "metadata": {},
     "output_type": "execute_result"
    }
   ],
   "source": [
    "text = \"alla fine è uscito il sole, contro ogni aspettativa\"\n",
    "re.findall(r\"contro\", text)"
   ]
  },
  {
   "cell_type": "code",
   "execution_count": 5,
   "metadata": {},
   "outputs": [
    {
     "data": {
      "text/plain": [
       "['contro']"
      ]
     },
     "execution_count": 5,
     "metadata": {},
     "output_type": "execute_result"
    }
   ],
   "source": [
    "text = \"per favore, controlla se è arrivata la posta!\"\n",
    "re.findall(r\"contro\", text)"
   ]
  },
  {
   "cell_type": "markdown",
   "metadata": {},
   "source": [
    "## Alternation\n",
    "\n",
    "We can extend our language by introducing more options...\n",
    "\n",
    "`|` indicates the union of two matches (i.e., `or`)"
   ]
  },
  {
   "cell_type": "code",
   "execution_count": 6,
   "metadata": {},
   "outputs": [
    {
     "data": {
      "text/plain": [
       "['giorno', 'sera']"
      ]
     },
     "execution_count": 6,
     "metadata": {},
     "output_type": "execute_result"
    }
   ],
   "source": [
    "text = \"Filastrocca di primavera più lungo è il giorno, più dolce la sera.\"\n",
    "\n",
    "re.findall(r\"giorno|sera\", text)"
   ]
  },
  {
   "cell_type": "code",
   "execution_count": 7,
   "metadata": {},
   "outputs": [
    {
     "data": {
      "text/plain": [
       "['sera']"
      ]
     },
     "execution_count": 7,
     "metadata": {},
     "output_type": "execute_result"
    }
   ],
   "source": [
    "text = \"per favore, controlla se è arrivata la posta stasera!\"\n",
    "re.findall(r\"giorno|sera\", text)"
   ]
  },
  {
   "cell_type": "markdown",
   "metadata": {},
   "source": [
    "## Quantifiers\n",
    "\n",
    "The easiest way to extend the language is to repeat characters:\n",
    "\n",
    "- `*` $\\to$ 0 to multiple occurrences\n",
    "- `+` $\\to$ 1 to multiple occurrences \n",
    "- `{x, y}` $\\to$ x to y matches (we can also have `{x}` for exactly `x`, `{, y}` for at most `y` or `{x,}` for at least `x`)\n",
    "- `?` is a shortcut for `{0,1}`\n",
    "\n",
    "e.g. `r\"mu?ore\"` which represents the regular language `L = {\"muore\", \"more\"}`"
   ]
  },
  {
   "cell_type": "code",
   "execution_count": 8,
   "metadata": {},
   "outputs": [
    {
     "data": {
      "text/plain": [
       "['a', 'aa', 'aaa', 'aaaa', 'aaaaa', 'aaaaaa', 'aaaaaaa']"
      ]
     },
     "execution_count": 8,
     "metadata": {},
     "output_type": "execute_result"
    }
   ],
   "source": [
    "text = \"a aa aaa aaaa aaaaa aaaaaa aaaaaaa\"\n",
    "\n",
    "re.findall(r\"a+\", text)"
   ]
  },
  {
   "cell_type": "code",
   "execution_count": 9,
   "metadata": {},
   "outputs": [
    {
     "data": {
      "text/plain": [
       "['a',\n",
       " '',\n",
       " 'aa',\n",
       " '',\n",
       " 'aaa',\n",
       " '',\n",
       " 'aaaa',\n",
       " '',\n",
       " 'aaaaa',\n",
       " '',\n",
       " 'aaaaaa',\n",
       " '',\n",
       " 'aaaaaaa',\n",
       " '']"
      ]
     },
     "execution_count": 9,
     "metadata": {},
     "output_type": "execute_result"
    }
   ],
   "source": [
    "re.findall(r\"a*\", text)"
   ]
  },
  {
   "cell_type": "code",
   "execution_count": 10,
   "metadata": {},
   "outputs": [
    {
     "data": {
      "text/plain": [
       "['aa', 'aaa', 'aaaa', 'aaaaa', 'aaaaaa', 'aaaaaaa']"
      ]
     },
     "execution_count": 10,
     "metadata": {},
     "output_type": "execute_result"
    }
   ],
   "source": [
    "re.findall(r\"a{2,}\", text)"
   ]
  },
  {
   "cell_type": "code",
   "execution_count": 11,
   "metadata": {},
   "outputs": [
    {
     "data": {
      "text/plain": [
       "['aa', 'aaa', 'aaaa', 'aaaaa', 'aaaaa', 'aaaaa', 'aa']"
      ]
     },
     "execution_count": 11,
     "metadata": {},
     "output_type": "execute_result"
    }
   ],
   "source": [
    "re.findall(r\"a{2,5}\", text)"
   ]
  },
  {
   "cell_type": "markdown",
   "metadata": {},
   "source": [
    "## Special characters in regular expressions\n",
    "\n",
    "Now we know how to match more or less any character on our keyboard.\n",
    "\n",
    "There's something more we need to know:\n",
    "\n",
    "- in principle it's possible to match `tabulations` by typing the actual `[TAB]` character, but not all editors allow doing so and it's pretty incovenient to have such long expressions, so the `[TAB]` character is expressed by the regex `r\"\\t\"`\n",
    "- matching usually works line by line, so the `newline` needs a special sequence in order to be matched, and that is `r\"\\n\"`\n",
    "- Finally, can you match a full stop? "
   ]
  },
  {
   "cell_type": "code",
   "execution_count": 12,
   "metadata": {},
   "outputs": [
    {
     "data": {
      "text/plain": [
       "[',', ',', ',', ',', ',']"
      ]
     },
     "execution_count": 12,
     "metadata": {},
     "output_type": "execute_result"
    }
   ],
   "source": [
    "text = \"\"\"\n",
    "I wandered lonely as a cloud\n",
    "That floats on high o'er vales and hills,\n",
    "When all at once I saw a crowd,\n",
    "A host, of golden daffodils;\n",
    "Beside the lake, beneath the trees,\n",
    "Fluttering and dancing in the breeze.\n",
    "\"\"\"\n",
    "\n",
    "re.findall(r\",\", text)"
   ]
  },
  {
   "cell_type": "code",
   "execution_count": 13,
   "metadata": {},
   "outputs": [
    {
     "data": {
      "text/plain": [
       "[';']"
      ]
     },
     "execution_count": 13,
     "metadata": {},
     "output_type": "execute_result"
    }
   ],
   "source": [
    "re.findall(r\";\", text)\n"
   ]
  },
  {
   "cell_type": "code",
   "execution_count": 14,
   "metadata": {},
   "outputs": [
    {
     "data": {
      "text/plain": [
       "['I',\n",
       " ' ',\n",
       " 'w',\n",
       " 'a',\n",
       " 'n',\n",
       " 'd',\n",
       " 'e',\n",
       " 'r',\n",
       " 'e',\n",
       " 'd',\n",
       " ' ',\n",
       " 'l',\n",
       " 'o',\n",
       " 'n',\n",
       " 'e',\n",
       " 'l',\n",
       " 'y',\n",
       " ' ',\n",
       " 'a',\n",
       " 's',\n",
       " ' ',\n",
       " 'a',\n",
       " ' ',\n",
       " 'c',\n",
       " 'l',\n",
       " 'o',\n",
       " 'u',\n",
       " 'd',\n",
       " 'T',\n",
       " 'h',\n",
       " 'a',\n",
       " 't',\n",
       " ' ',\n",
       " 'f',\n",
       " 'l',\n",
       " 'o',\n",
       " 'a',\n",
       " 't',\n",
       " 's',\n",
       " ' ',\n",
       " 'o',\n",
       " 'n',\n",
       " ' ',\n",
       " 'h',\n",
       " 'i',\n",
       " 'g',\n",
       " 'h',\n",
       " ' ',\n",
       " 'o',\n",
       " \"'\",\n",
       " 'e',\n",
       " 'r',\n",
       " ' ',\n",
       " 'v',\n",
       " 'a',\n",
       " 'l',\n",
       " 'e',\n",
       " 's',\n",
       " ' ',\n",
       " 'a',\n",
       " 'n',\n",
       " 'd',\n",
       " ' ',\n",
       " 'h',\n",
       " 'i',\n",
       " 'l',\n",
       " 'l',\n",
       " 's',\n",
       " ',',\n",
       " 'W',\n",
       " 'h',\n",
       " 'e',\n",
       " 'n',\n",
       " ' ',\n",
       " 'a',\n",
       " 'l',\n",
       " 'l',\n",
       " ' ',\n",
       " 'a',\n",
       " 't',\n",
       " ' ',\n",
       " 'o',\n",
       " 'n',\n",
       " 'c',\n",
       " 'e',\n",
       " ' ',\n",
       " 'I',\n",
       " ' ',\n",
       " 's',\n",
       " 'a',\n",
       " 'w',\n",
       " ' ',\n",
       " 'a',\n",
       " ' ',\n",
       " 'c',\n",
       " 'r',\n",
       " 'o',\n",
       " 'w',\n",
       " 'd',\n",
       " ',',\n",
       " 'A',\n",
       " ' ',\n",
       " 'h',\n",
       " 'o',\n",
       " 's',\n",
       " 't',\n",
       " ',',\n",
       " ' ',\n",
       " 'o',\n",
       " 'f',\n",
       " ' ',\n",
       " 'g',\n",
       " 'o',\n",
       " 'l',\n",
       " 'd',\n",
       " 'e',\n",
       " 'n',\n",
       " ' ',\n",
       " 'd',\n",
       " 'a',\n",
       " 'f',\n",
       " 'f',\n",
       " 'o',\n",
       " 'd',\n",
       " 'i',\n",
       " 'l',\n",
       " 's',\n",
       " ';',\n",
       " 'B',\n",
       " 'e',\n",
       " 's',\n",
       " 'i',\n",
       " 'd',\n",
       " 'e',\n",
       " ' ',\n",
       " 't',\n",
       " 'h',\n",
       " 'e',\n",
       " ' ',\n",
       " 'l',\n",
       " 'a',\n",
       " 'k',\n",
       " 'e',\n",
       " ',',\n",
       " ' ',\n",
       " 'b',\n",
       " 'e',\n",
       " 'n',\n",
       " 'e',\n",
       " 'a',\n",
       " 't',\n",
       " 'h',\n",
       " ' ',\n",
       " 't',\n",
       " 'h',\n",
       " 'e',\n",
       " ' ',\n",
       " 't',\n",
       " 'r',\n",
       " 'e',\n",
       " 'e',\n",
       " 's',\n",
       " ',',\n",
       " 'F',\n",
       " 'l',\n",
       " 'u',\n",
       " 't',\n",
       " 't',\n",
       " 'e',\n",
       " 'r',\n",
       " 'i',\n",
       " 'n',\n",
       " 'g',\n",
       " ' ',\n",
       " 'a',\n",
       " 'n',\n",
       " 'd',\n",
       " ' ',\n",
       " 'd',\n",
       " 'a',\n",
       " 'n',\n",
       " 'c',\n",
       " 'i',\n",
       " 'n',\n",
       " 'g',\n",
       " ' ',\n",
       " 'i',\n",
       " 'n',\n",
       " ' ',\n",
       " 't',\n",
       " 'h',\n",
       " 'e',\n",
       " ' ',\n",
       " 'b',\n",
       " 'r',\n",
       " 'e',\n",
       " 'e',\n",
       " 'z',\n",
       " 'e',\n",
       " '.']"
      ]
     },
     "execution_count": 14,
     "metadata": {},
     "output_type": "execute_result"
    }
   ],
   "source": [
    "re.findall(r\".\", text)"
   ]
  },
  {
   "cell_type": "markdown",
   "metadata": {},
   "source": [
    "The character `.` has a special meaning when it's expressed within a regex, and it means `any character but newline`.\n",
    "\n",
    "So what if we wanted to match `breeze.`, for instance?\n",
    "\n",
    "We should add an escape character (`\\`) before the full stop!\n",
    "\n",
    "Think about it, we already used the escape character before.\n",
    "`\\t` tells the interpreter: \"do not match `t` as you usually would, but interpret it in some other way\"\n",
    "\n",
    "This is also true for some other characters, like `(`, `)`, `[`, `]`, `{`, `}`, `+`, `*` that bear a special meaning within the regex language. We already saw when to use `{`, `}`, `+`, `*`, we'll see shortly about the others."
   ]
  },
  {
   "cell_type": "code",
   "execution_count": 15,
   "metadata": {},
   "outputs": [
    {
     "data": {
      "text/plain": [
       "['.']"
      ]
     },
     "execution_count": 15,
     "metadata": {},
     "output_type": "execute_result"
    }
   ],
   "source": [
    "re.findall(r\"\\.\", text)"
   ]
  },
  {
   "cell_type": "markdown",
   "metadata": {},
   "source": [
    "### Questions:\n",
    "\n",
    "- what happens if you match `r\"breeze.\"` without escaping the `.`. \n",
    "- Can you demonstrate your hypothesis, by building some ad-hoc text?"
   ]
  },
  {
   "cell_type": "markdown",
   "metadata": {},
   "source": [
    "## Classes of characters\n",
    "\n",
    "Matching explicitly is not very useful if you want to express a language like `L = {all words of length 3}`.\n",
    "\n",
    "At the moment, if we want to express `any letter in the alphabet` we'd need to write an expression like `r\"a|b|c|d|e|f...\"`. Quite inconvenient.\n",
    "\n",
    "Just like `.` means any character, regex interpreters are also able to interpret some special sequences associated to classes of characters that are often matched by users:\n",
    "\n",
    "- `r\"\\w\"` matches any alphanumeric character\n",
    "- `r\"\\d\"` matches any digit\n",
    "- `r\"\\s\"` matches any space-line character (i.e., tabulations, standard spaces, newlines)\n",
    "\n",
    "\n",
    "Always check [syntax specifications](https://docs.python.org/3/library/re.html#regular-expression-syntax) of the interpreter you're using!"
   ]
  },
  {
   "cell_type": "code",
   "execution_count": 16,
   "metadata": {},
   "outputs": [
    {
     "data": {
      "text/plain": [
       "['1', '1', '9', '9', '0']"
      ]
     },
     "execution_count": 16,
     "metadata": {},
     "output_type": "execute_result"
    }
   ],
   "source": [
    "text = \"My name is John. I was born on Jan 1st 1990.\"\n",
    "\n",
    "re.findall(r\"\\d\", text)\n"
   ]
  },
  {
   "cell_type": "markdown",
   "metadata": {},
   "source": [
    "### Questions:\n",
    "\n",
    "Consider this text:\n",
    "```\n",
    "text = \"\"\"\n",
    "I wandered lonely as a cloud\n",
    "That floats on high o'er vales and hills,\n",
    "When all at once I saw a crowd,\n",
    "A host, of golden daffodils;\n",
    "Beside the lake, beneath the trees,\n",
    "Fluttering and dancing in the breeze.\n",
    "\"\"\"\n",
    "```\n",
    "\n",
    "\n",
    "- try and match any sequence of alphanumeric characters of length at most 3\n",
    "- any sequence of characters of length exactly 3, preceded and followed by spaces\n",
    "- any sequence composed by a space, a variable number of alphanumeric characters and a comma"
   ]
  },
  {
   "cell_type": "markdown",
   "metadata": {},
   "source": [
    "We can also define a personalized class of characters, by using square brackets.\n",
    "\n",
    "For instance, there's no pre-defined meta sequence for vowels but we can define:\n",
    "\n",
    "`r\"[aeiou]\"` for `r\"a|e|i|o|u\"`\n",
    "\n",
    "\n",
    "Square brackets also support ranges:\n",
    "\n",
    "- `r\"[0-9]\"` is the same as saying `r\"\\d\"`, but we can also define `r\"[0-3]\"` for instance\n",
    "- `[a-z]` means all alphabetical letters from `a` to `z` (lowercased, pay attention to encoding!)\n",
    "- and so on..."
   ]
  },
  {
   "cell_type": "markdown",
   "metadata": {},
   "source": [
    "### Questions\n",
    "\n",
    "- a date between Jan 1st 1937 and Jan 29th 1937, expressed as DD/MM/YYYY\n",
    "- A sequence of alphanumeric characters, starting and ending with spaces, and containing two or more contiguous `n`s (e.g., `anno`, `cannone`...)\n",
    "- A sequence of alphanumeric characters, starting and ending with spaces, and containing two or more contiguous vowels (e.g., `aiuola`, `meteorologo`...)\n",
    "- A sequence of alphanumeric characters containing at least two `n`s, not necessarily contiguous (e.g., `nano`, `panettone`...)\n",
    "- `L = {\"care\", \"mare\", \"fare\", \"rare\", \"pare\", \"gare\"}`\n",
    "- sequences of characters that resemble italian past participles\n",
    "- Even numbers in a text"
   ]
  },
  {
   "cell_type": "markdown",
   "metadata": {},
   "source": [
    "We can also negate the content of a group in order to match `any character, but those expressed in square brackets`. \n",
    "\n",
    "This is achieved by adding a `^` as the first character inside a square bracket.\n",
    "\n",
    "So, `r\"[^ab]\"` means \"any character, except `a` or `b`\""
   ]
  },
  {
   "cell_type": "code",
   "execution_count": 17,
   "metadata": {},
   "outputs": [
    {
     "data": {
      "text/plain": [
       "['F',\n",
       " 'l',\n",
       " 's',\n",
       " 't',\n",
       " 'r',\n",
       " 'c',\n",
       " 'c',\n",
       " ' ',\n",
       " 'd',\n",
       " ' ',\n",
       " 'p',\n",
       " 'r',\n",
       " 'm',\n",
       " 'v',\n",
       " 'r',\n",
       " ' ',\n",
       " 'p',\n",
       " 'ù',\n",
       " ' ',\n",
       " 'l',\n",
       " 'n',\n",
       " 'g',\n",
       " ' ',\n",
       " 'è',\n",
       " ' ',\n",
       " 'l',\n",
       " ' ',\n",
       " 'g',\n",
       " 'r',\n",
       " 'n',\n",
       " ',',\n",
       " ' ',\n",
       " 'p',\n",
       " 'ù',\n",
       " ' ',\n",
       " 'd',\n",
       " 'l',\n",
       " 'c',\n",
       " ' ',\n",
       " 'l',\n",
       " ' ',\n",
       " 's',\n",
       " 'r',\n",
       " '.']"
      ]
     },
     "execution_count": 17,
     "metadata": {},
     "output_type": "execute_result"
    }
   ],
   "source": [
    "text = \"Filastrocca di primavera più lungo è il giorno, più dolce la sera.\"\n",
    "\n",
    "re.findall(r\"[^aeiou]\", text)"
   ]
  },
  {
   "cell_type": "markdown",
   "metadata": {},
   "source": [
    "### Questions\n",
    "\n",
    "- match sequences of alphanumeric characters that do not end with a punctuation mark\n",
    "- in Italian some consonants like `r` and `l` can be followed both by a vowel and a consonant. Write a regular expression to match all instances of `r` or `l` when followed by a consonant."
   ]
  },
  {
   "cell_type": "markdown",
   "metadata": {},
   "source": [
    "## Groups (1)\n",
    "\n",
    "We saw how multipliers and quantification can work on single characters:\n",
    "\n",
    "`r\"a+b\" = {\"ab\", \"aab\", \"aaab\", \"aaaab\", ...}`\n",
    "\n",
    "`r\"[ae]+b\" = {\"ab\", \"eb\", \"aab\", \"aeb\", \"eeb\", \"aaab\", \"aaeb\", \"aeab\", \"eaab\", \"eeab\", \"eaeb\", \"eeeb\", ...}`\n",
    "\n",
    "\n",
    "Quantifiers can actually be applied to groups of characters rather than single ones.\n",
    "\n",
    "Think about the language `L = {ab, abab, ababab, abababab}`.\n",
    "Here, it's the entire `ab` sequence that can be repeated from 1 to many times. In a regular expression, we would signal it as `r\"(?:ab)+\"` meaning that the whole subsequence `ab` is repeated 1 to n times.\n",
    "\n",
    "Groups can be also used to isolate substrings when using the `or` (or pipe `|`) function.\n",
    "\n",
    "`r\"(?:a|uo)\\w+\"` will match words that start either with `a` or with the sequence `uo`\n",
    "\n",
    "IMPORTANT: \n",
    "\n",
    "- when using `re.findall` you need to specify that you want to return the whole matching string and not just what's inside the group. In order to do so you need to prefix the group with `?:`. "
   ]
  },
  {
   "cell_type": "code",
   "execution_count": 32,
   "metadata": {},
   "outputs": [
    {
     "data": {
      "text/plain": [
       "['a', 'uo']"
      ]
     },
     "execution_count": 32,
     "metadata": {},
     "output_type": "execute_result"
    }
   ],
   "source": [
    "text = \"aria uovo uso\"\n",
    "\n",
    "re.findall(r\"(a|uo)\\w+\", text)"
   ]
  },
  {
   "cell_type": "code",
   "execution_count": 33,
   "metadata": {},
   "outputs": [
    {
     "data": {
      "text/plain": [
       "['aria', 'uovo']"
      ]
     },
     "execution_count": 33,
     "metadata": {},
     "output_type": "execute_result"
    }
   ],
   "source": [
    "re.findall(r\"(?:a|uo)\\w+\", text)"
   ]
  },
  {
   "cell_type": "markdown",
   "metadata": {},
   "source": [
    "## Questions\n",
    "\n",
    "- can you match any valid number, expressed in roman fromat, between 1 and 10? (i.e., I, II, III, IV, V, VI, VII, VIII, IX, X). Try and be as much compact as possible!\n",
    "- can you match any date in the format DD/MM/YYYY\n",
    "- can you match only words (i.e., sequences surrounded by spaces) that are made up by an odd number of characters?"
   ]
  },
  {
   "cell_type": "markdown",
   "metadata": {},
   "source": [
    "## Introducing `re.finditer`\n",
    "\n",
    "The function `re.finditer` ([docs](https://docs.python.org/3/library/re.html#re.finditer)) is slightly more complex than `re.findall` but behaves in a more flexible way when it comes to handling groups, and gives us also a more informative output.\n",
    "\n",
    "```\n",
    "re.finditer(pattern, string, flags=0)\n",
    "\n",
    "    Return an iterator yielding Match objects over all non-overlapping matches for the RE pattern in string. The string is scanned left-to-right, and matches are returned in the order found. Empty matches are included in the result.\n",
    "```"
   ]
  },
  {
   "cell_type": "code",
   "execution_count": 36,
   "metadata": {},
   "outputs": [
    {
     "data": {
      "text/plain": [
       "<callable_iterator at 0x767595552ec0>"
      ]
     },
     "execution_count": 36,
     "metadata": {},
     "output_type": "execute_result"
    }
   ],
   "source": [
    "text = \"aria uovo uso\"\n",
    "\n",
    "re.finditer(r\"(a|uo)\\w+\", text)"
   ]
  },
  {
   "cell_type": "markdown",
   "metadata": {},
   "source": [
    "The function returned an `iterator`, which is a callable object that will load our result piece by piece.\n",
    "\n",
    "Each result is a `Match` object ([docs](https://docs.python.org/3/library/re.html#match-objects)) which has many callable properties.\n",
    "For instance:\n",
    "\n",
    "- `Match.group`: group `0` corresponds to the entire match, while group `1` to `99` match the corresponding substring enclosed by round parentheses.\n",
    "- If a group matches multiple times, only the last match is accessible\n",
    "- `Match.start` and `Match.end` return the indices of the start and end of the substring matched by group. This way we can know how long our match is for instance!"
   ]
  },
  {
   "cell_type": "code",
   "execution_count": 42,
   "metadata": {},
   "outputs": [
    {
     "name": "stdout",
     "output_type": "stream",
     "text": [
      "aria\n",
      "uovo\n"
     ]
    }
   ],
   "source": [
    "for match in re.finditer(r\"(a|uo)\\w+\", text):\n",
    "\tprint(match.group(0))"
   ]
  },
  {
   "cell_type": "code",
   "execution_count": 44,
   "metadata": {},
   "outputs": [
    {
     "name": "stdout",
     "output_type": "stream",
     "text": [
      "a 0 1\n",
      "uo 5 7\n"
     ]
    }
   ],
   "source": [
    "for match in re.finditer(r\"(a|uo)\\w+\", text):\n",
    "\tprint(match.group(1), match.start(1), match.end(1))"
   ]
  }
 ],
 "metadata": {
  "kernelspec": {
   "display_name": ".venv",
   "language": "python",
   "name": "python3"
  },
  "language_info": {
   "codemirror_mode": {
    "name": "ipython",
    "version": 3
   },
   "file_extension": ".py",
   "mimetype": "text/x-python",
   "name": "python",
   "nbconvert_exporter": "python",
   "pygments_lexer": "ipython3",
   "version": "3.12.3"
  }
 },
 "nbformat": 4,
 "nbformat_minor": 2
}
