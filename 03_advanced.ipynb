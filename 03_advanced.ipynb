{
 "cells": [
  {
   "cell_type": "markdown",
   "metadata": {},
   "source": [
    "## Anchors\n",
    "\n",
    "We're still missing some tools!\n",
    "At the moment we're using spaces to isolate \"words\", but this introduces some issues like the fact that not always words that we're interested in are surrounded by spaces."
   ]
  },
  {
   "cell_type": "code",
   "execution_count": 3,
   "metadata": {},
   "outputs": [
    {
     "data": {
      "text/plain": [
       "[' wandered ',\n",
       " ' as ',\n",
       " ' floats ',\n",
       " ' high ',\n",
       " ' vales ',\n",
       " ' all ',\n",
       " ' once ',\n",
       " ' saw ',\n",
       " ' of ',\n",
       " ' the ',\n",
       " ' beneath ',\n",
       " ' and ',\n",
       " ' in ']"
      ]
     },
     "execution_count": 3,
     "metadata": {},
     "output_type": "execute_result"
    }
   ],
   "source": [
    "import re\n",
    "\n",
    "text = \"\"\"\n",
    "I wandered lonely as a cloud\n",
    "That floats on high o'er vales and hills,\n",
    "When all at once I saw a crowd,\n",
    "A host, of golden daffodils;\n",
    "Beside the lake, beneath the trees,\n",
    "Fluttering and dancing in the breeze.\n",
    "\"\"\"\n",
    "\n",
    "re.findall(r\" \\w+ \", text)"
   ]
  },
  {
   "cell_type": "markdown",
   "metadata": {},
   "source": [
    "This generates two issues:\n",
    "\n",
    "1. not all words can be matched as not all words are preceded or followed by a whitespace (i.e., `That` or `hills` on line 2)\n",
    "2. the whitespace \"consumes\" a character, so for instance `wandered` is matched but `lonely` isn't because, when expressed as instances or `r\" \\w+ \"`, the trailing space of ` wandered ` and the leading one of ` lonely ` would overlap.\n",
    "\n",
    "In order to solve this issue, we need to introduce the concept of **anchor**: a special symbol that does not correspond to a character but match a **position** in a string.\n",
    "\n",
    "The most popular anchors are:\n",
    "\n",
    "- `^` indicates the beginning of a line\n",
    "- `$` indicates the end of a line\n",
    "- `\\b` indicates a token boundary (transition between an alphanumeric character and a non-alphanumeric character)\n",
    "\n",
    "\n",
    "IMPORTANT: archors do not match any character! They just determine whether a match is valid depending on the position where the match happens."
   ]
  },
  {
   "cell_type": "code",
   "execution_count": null,
   "metadata": {},
   "outputs": [
    {
     "data": {
      "text/plain": [
       "['I',\n",
       " 'wandered',\n",
       " 'lonely',\n",
       " 'as',\n",
       " 'a',\n",
       " 'cloud',\n",
       " 'That',\n",
       " 'floats',\n",
       " 'on',\n",
       " 'high',\n",
       " 'o',\n",
       " 'er',\n",
       " 'vales',\n",
       " 'and',\n",
       " 'hills',\n",
       " 'When',\n",
       " 'all',\n",
       " 'at',\n",
       " 'once',\n",
       " 'I',\n",
       " 'saw',\n",
       " 'a',\n",
       " 'crowd',\n",
       " 'A',\n",
       " 'host',\n",
       " 'of',\n",
       " 'golden',\n",
       " 'daffodils',\n",
       " 'Beside',\n",
       " 'the',\n",
       " 'lake',\n",
       " 'beneath',\n",
       " 'the',\n",
       " 'trees',\n",
       " 'Fluttering',\n",
       " 'and',\n",
       " 'dancing',\n",
       " 'in',\n",
       " 'the',\n",
       " 'breeze']"
      ]
     },
     "execution_count": 4,
     "metadata": {},
     "output_type": "execute_result"
    }
   ],
   "source": [
    "re.findall(r\"\\b\\w+\\b\", text)"
   ]
  },
  {
   "cell_type": "code",
   "execution_count": 11,
   "metadata": {},
   "outputs": [
    {
     "data": {
      "text/plain": [
       "['I', 'That', 'When', 'A', 'Beside', 'Fluttering']"
      ]
     },
     "execution_count": 11,
     "metadata": {},
     "output_type": "execute_result"
    }
   ],
   "source": [
    "# re.MULTILINE is needed so that ^ corresponds to the start of each line\n",
    "# (i.e., immediately after each \\n, in addition to the start of the string).\n",
    "\n",
    "re.findall(r\"^\\w+\\b\", text, flags=re.MULTILINE)"
   ]
  },
  {
   "cell_type": "markdown",
   "metadata": {},
   "source": [
    "### Questions\n",
    "\n",
    "- A word of at least two alphabetical tokens followed by colon\n",
    "- Words starting with capital `P` at the beginning of the line\n",
    "- Lines containing at most 3 words and ending with a question mark\n",
    "- Sequences of words enclosed by parentheses: `(lorem ipsum dolor)`\n",
    "- Lists of words separated by comma $\\to$ `apple, kiwi, pear, orange, ...`\n",
    "- acronyms (`U.S.A`, `O.N.U`, etc.)"
   ]
  },
  {
   "cell_type": "markdown",
   "metadata": {},
   "source": [
    "## Groups (2) and Backreferences\n",
    "\n",
    "Once defined, a group can also be referenced later in the regular expression.\n",
    "\n",
    "For example we might want to look for words starting and ending with the same letter $\\to$ `arpa, oggetto, pulp, snakes`\n",
    "\n",
    "    (a letter) (the rest of the string) (the initial letter)\n",
    "\n",
    "    (a) (rp) (a)\n",
    "\n",
    "\n",
    "Groups get numbered from 1 to n, so that their match instance can be later used\n",
    "\n",
    "`r\"\\b(\\w)\\w+\\1\\b\"` matches all words that start and end by the same letter."
   ]
  },
  {
   "cell_type": "markdown",
   "metadata": {},
   "source": [
    "### Questions\n",
    "\n",
    "- match words containing a double consonant\n",
    "- match palindrome words of at most 6 characters\n",
    "- match instances of reduplications or quasi-reduplication (i.e., `caffè-caffè`, `tessuto-non-tessuto`...)\n",
    "- lines where the same words (long at least 4 characters) appear twice, eventually with a different word ending (e.g., `Chi portava il bambino o anche certamente la bambina poteva così ...` should match `bambino o anche certamente la bambina`)"
   ]
  }
 ],
 "metadata": {
  "kernelspec": {
   "display_name": "Python 3",
   "language": "python",
   "name": "python3"
  },
  "language_info": {
   "codemirror_mode": {
    "name": "ipython",
    "version": 3
   },
   "file_extension": ".py",
   "mimetype": "text/x-python",
   "name": "python",
   "nbconvert_exporter": "python",
   "pygments_lexer": "ipython3",
   "version": "3.10.12"
  }
 },
 "nbformat": 4,
 "nbformat_minor": 2
}
