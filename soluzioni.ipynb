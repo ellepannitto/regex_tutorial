{
 "cells": [
  {
   "cell_type": "code",
   "execution_count": 2,
   "metadata": {},
   "outputs": [],
   "source": [
    "import re"
   ]
  },
  {
   "cell_type": "markdown",
   "metadata": {},
   "source": [
    "- what happens if you match `r\"breeze.\"` without escaping the `.`. \n",
    "- Can you demonstrate your hypothesis, by building some ad-hoc text?"
   ]
  },
  {
   "cell_type": "code",
   "execution_count": null,
   "metadata": {},
   "outputs": [
    {
     "name": "stdout",
     "output_type": "stream",
     "text": [
      "Matching 'breeze.' returns: ['breeze.', 'breezes']\n",
      "Matching 'breeze\\.' returns: ['breeze.']\n"
     ]
    }
   ],
   "source": [
    "# if you match r\"breeze.\" the instance of `breeze.` will be matched because `.`\n",
    "# itself is matched by r\".\"\n",
    "# any other sequence prefixed by `breeze` will be matched as well\n",
    "\n",
    "text = \"\"\"\n",
    "I wandered lonely as a cloud\n",
    "That floats on high o'er vales and hills,\n",
    "When all at once I saw a crowd,\n",
    "A host, of golden daffodils;\n",
    "Beside the lake, beneath the trees,\n",
    "Fluttering and dancing in the breeze.\n",
    "\n",
    "Beside the lake, beneath the trees,\n",
    "Fluttering and dancing in the breezes\n",
    "\"\"\"\n",
    "\n",
    "print(\"Matching 'breeze.' returns:\", re.findall(r\"breeze.\", text))\n",
    "\n",
    "print(\"Matching 'breeze\\.' returns:\", re.findall(r\"breeze\\.\", text))"
   ]
  },
  {
   "cell_type": "markdown",
   "metadata": {},
   "source": [
    "- try and match any sequence of alphanumeric characters of length at most 3\n",
    "- any sequence of characters of length exactly 3, preceded and followed by spaces\n",
    "- any sequence composed by a space, a variable number of alphanumeric characters and a comma"
   ]
  },
  {
   "cell_type": "code",
   "execution_count": 5,
   "metadata": {},
   "outputs": [
    {
     "name": "stdout",
     "output_type": "stream",
     "text": [
      "['', 'I', '', 'wan', 'der', 'ed', '', 'lon', 'ely', '', 'as', '', 'a', '', 'clo', 'ud', '', 'Tha', 't', '', 'flo', 'ats', '', 'on', '', 'hig', 'h', '', 'o', '', 'er', '', 'val', 'es', '', 'and', '', 'hil', 'ls', '', '', 'Whe', 'n', '', 'all', '', 'at', '', 'onc', 'e', '', 'I', '', 'saw', '', 'a', '', 'cro', 'wd', '', '', 'A', '', 'hos', 't', '', '', 'of', '', 'gol', 'den', '', 'daf', 'fod', 'ils', '', '', 'Bes', 'ide', '', 'the', '', 'lak', 'e', '', '', 'ben', 'eat', 'h', '', 'the', '', 'tre', 'es', '', '', 'Flu', 'tte', 'rin', 'g', '', 'and', '', 'dan', 'cin', 'g', '', 'in', '', 'the', '', 'bre', 'eze', '', '', '']\n",
      "[' and ', ' all ', ' saw ', ' the ', ' the ', ' and ', ' the ']\n",
      "[' hills,', ' crowd,', ' host,', ' lake,', ' trees,']\n"
     ]
    }
   ],
   "source": [
    "text = \"\"\"\n",
    "I wandered lonely as a cloud\n",
    "That floats on high o'er vales and hills,\n",
    "When all at once I saw a crowd,\n",
    "A host, of golden daffodils;\n",
    "Beside the lake, beneath the trees,\n",
    "Fluttering and dancing in the breeze.\n",
    "\"\"\"\n",
    "\n",
    "print(re.findall(r\"\\w{,3}\", text))\n",
    "\n",
    "print(re.findall(r\" \\w{3} \", text))\n",
    "\n",
    "print(re.findall(r\" \\w+,\", text))"
   ]
  },
  {
   "cell_type": "markdown",
   "metadata": {},
   "source": [
    "- a date between Jan 1st 1937 and Jan 29th 1937, expressed as DD/MM/YYYY\n",
    "- A sequence of alphanumeric characters, starting and ending with spaces, and containing two or more contiguous `n`s (e.g., `anno`, `cannone`...)\n",
    "- A sequence of alphanumeric characters, starting and ending with spaces, and containing two or more contiguous vowels (e.g., `aiuola`, `meteorologo`...)\n",
    "- A sequence of alphanumeric characters containing at least two `n`s, not necessarily contiguous (e.g., `nano`, `panettone`...)\n",
    "- `L = {\"care\", \"mare\", \"fare\", \"rare\", \"pare\", \"gare\"}`\n",
    "- sequences of characters that resemble italian past participles\n",
    "- Even numbers in a text"
   ]
  },
  {
   "cell_type": "code",
   "execution_count": 8,
   "metadata": {},
   "outputs": [
    {
     "name": "stdout",
     "output_type": "stream",
     "text": [
      "['12/01/1937']\n",
      "[' anno ']\n",
      "[' chiamava ', ' chiamava ', ' guardò ', ' calendario ', ' fuori ', ' quasi ']\n",
      "['nano', 'nina', 'panettone', 'panettone', 'anno']\n",
      "['fare', 'pare']\n",
      "['nato', 'fata', 'cucinato', 'passato', 'Nata']\n",
      "['12', '0']\n"
     ]
    }
   ],
   "source": [
    "text = \"\"\"\n",
    "C'era una volta un nano, nato il 12/01/1937, che si chiamava Nino.\n",
    "Nino aveva un'amica, una fata, che si chiamava Nina.\n",
    "Con l'avvicinarsi della Pasqua, Nino e nina si misero a fare un panettone.\n",
    "Dopo averlo cucinato, Nino guardò il calendario e disse: \"Nina, mi pare che il nostro panettone\n",
    "sia fuori tempo massimo! È passato quasi un anno intero dal Natale ormai!\n",
    "\"\"\"\n",
    "\n",
    "print(re.findall(r\"[12][0-9]/0?1/1937\", text))\n",
    "\n",
    "print(re.findall(r\" \\w*nn\\w* \", text))\n",
    "\n",
    "print(re.findall(r\" \\w*[aeiou]{2}\\w* \", text))\n",
    "\n",
    "print(re.findall(r\"\\w*n\\w*n\\w*\", text))\n",
    "\n",
    "print(re.findall(r\"[cmfrpg]are\", text))\n",
    "\n",
    "print(re.findall(r\"\\w+[iua]t[oaei]\", text))\n",
    "\n",
    "print(re.findall(r\"\\d*[02468]\", text))"
   ]
  },
  {
   "cell_type": "markdown",
   "metadata": {},
   "source": [
    "- match sequences of alphanumeric characters that do not end with a punctuation mark\n",
    "- in Italian some consonants like `r` and `l` can be followed both by a vowel and a consonant. Write a regular expression to match all instances of `r` or `l` when followed by a consonant."
   ]
  },
  {
   "cell_type": "code",
   "execution_count": 9,
   "metadata": {},
   "outputs": [
    {
     "name": "stdout",
     "output_type": "stream",
     "text": [
      "['I ', 'wandered ', 'lonely ', 'as ', 'a ', 'cloud\\n', 'That ', 'floats ', 'on ', 'high ', \"o'\", 'er ', 'vales ', 'and ', 'hills', 'When ', 'all ', 'at ', 'once ', 'I ', 'saw ', 'a ', 'crowd', 'A ', 'host', 'of ', 'golden ', 'daffodils', 'Beside ', 'the ', 'lake', 'beneath ', 'the ', 'trees', 'Fluttering ', 'and ', 'dancing ', 'in ', 'the ', 'breeze']\n",
      "['ly', 'll', 'll', 'ld', 'ls']\n"
     ]
    }
   ],
   "source": [
    "text = \"\"\"\n",
    "I wandered lonely as a cloud\n",
    "That floats on high o'er vales and hills,\n",
    "When all at once I saw a crowd,\n",
    "A host, of golden daffodils;\n",
    "Beside the lake, beneath the trees,\n",
    "Fluttering and dancing in the breeze.\n",
    "\"\"\"\n",
    "\n",
    "print(re.findall(r\"\\w+[^.,!?;:]\", text))\n",
    "\n",
    "print(re.findall(r\"[rl][^aeiou ]\", text))"
   ]
  },
  {
   "cell_type": "markdown",
   "metadata": {},
   "source": [
    "- can you match any valid number, expressed in roman fromat, between 1 and 10? (i.e., I, II, III, IV, V, VI, VII, VIII, IX, X). Try and be as much compact as possible!\n",
    "- can you match any date in the format DD/MM/YYYY, only up to 2025! (You can ignore the fact that different months have different numer of days, but you should consider a date like 52/3/2027 impossible)\n",
    "- can you match only words (i.e., sequences surrounded by spaces) that are made up by an odd number of characters?"
   ]
  },
  {
   "cell_type": "code",
   "execution_count": 24,
   "metadata": {},
   "outputs": [
    {
     "name": "stdout",
     "output_type": "stream",
     "text": [
      "['03/04/2003', '08/03/2024', '10/03/2024', '11/03/2024']\n",
      "[' X ', ' VII ', ' III ', ' V ', ' IX ', ' IV ', ' II ', ' I ', ' X ']\n",
      "[' di ', ' si ', ' in ', ' duravano ', ' le ', ' solo ', ' ogni ', ' scudiero ', ' nato ', ' di ', ' al ', ' si ', ' ogni ', ' anni ', ' giorno ', ' il ', ' superare ', ' di ', ' di ', ' di ', ' fu ', ' contro ', ' La ', ' un ', ' IX ', ' La ', ' contro ', ' silenzio ', ' IV ', ' completò ', ' il ', ' fu ', ' Numero ', ' il ', ' al ', ' di ', ' ogni ', ' il ', ' il ', ' si ', ' in ', ' sognando ', ' loro ', ' come ', ' Elio ', ' Decimo ']\n"
     ]
    }
   ],
   "source": [
    "text = \"\"\"\n",
    "Nel regno di Numeralia, tutto si contava in numeri romani.\n",
    "Le settimane duravano X giorni, le ore erano solo VI, e ogni mese aveva XXV lune.\n",
    "\n",
    "Il giovane scudiero Elio, nato il 03/04/2003, sognava di partecipare al Torneo dei Numeri, che si teneva ogni VII anni nel giorno 08/03/2024.\n",
    "\n",
    "«Per diventare cavaliere,» gli disse il Mago Quadratus, «devi superare III prove:\n",
    "una di forza, una di mente e una di coraggio.»\n",
    "\n",
    "La prima prova fu una corsa contro V draghi. La seconda, un enigma con IX chiavi dorate. La terza, una sfida contro il silenzio lungo IV notti.\n",
    "\n",
    "Elio completò tutto entro il 10/03/2024, e fu nominato Cavaliere del Numero Perfetto il giorno 11/03/2024, al suono di II campane d’argento.\n",
    "\n",
    "Da allora, ogni anno, tra il I e il X marzo, i bambini del regno si esercitano a contare in numeri romani, sognando anche loro di diventare eroi…\n",
    "proprio come succederà a Elio il Decimo il 34/12/2025.\n",
    "\"\"\"\n",
    "\n",
    "print(re.findall(r\"(?:[012][0-9]|3[0-1])/(?:0?[0-9]|1[0-2])/(?:19[0-9][0-9]|20[0-2][0-5])\", text))\n",
    "\n",
    "print(re.findall(r\" V?I{1,3} | I?[XV] \", text))\n",
    "\n",
    "print(re.findall(r\" (?:\\w\\w)+ \", text))"
   ]
  },
  {
   "cell_type": "markdown",
   "metadata": {},
   "source": [
    "- A word of at least two alphabetical tokens followed by colon\n",
    "- Words starting with capital `P` at the beginning of the line\n",
    "- Lines containing at most 3 words and ending with a question mark\n",
    "- Sequences of words enclosed by parentheses: `(lorem ipsum dolor)`\n",
    "- Lists of words separated by comma $\\to$ `apple, kiwi, pear, orange, ...`\n",
    "- acronyms (`U.S.A`, `O.N.U`, etc.)"
   ]
  },
  {
   "cell_type": "code",
   "execution_count": null,
   "metadata": {},
   "outputs": [],
   "source": [
    "print(re.findall(r\"\\b[a-z]{2,}\\b\", text))\n",
    "\n",
    "print(re.findall(r\"^P\\w+\\b\", text))\n",
    "\n",
    "print(re.findall(r\"^\\w+(?: \\w+){,2}\\?$\", text))\n",
    "\n",
    "print(re.findall(r\"\\([a-z ]+\\)\"), text)\n",
    "\n",
    "print(re.findall(r\"\\b\\w+(?:,\\w+)*\\b\", text))\n",
    "\n",
    "print(re.findall(r\"(?:[A-Z]\\.)+\", text))"
   ]
  }
 ],
 "metadata": {
  "kernelspec": {
   "display_name": "Python 3",
   "language": "python",
   "name": "python3"
  },
  "language_info": {
   "codemirror_mode": {
    "name": "ipython",
    "version": 3
   },
   "file_extension": ".py",
   "mimetype": "text/x-python",
   "name": "python",
   "nbconvert_exporter": "python",
   "pygments_lexer": "ipython3",
   "version": "3.10.12"
  }
 },
 "nbformat": 4,
 "nbformat_minor": 2
}
