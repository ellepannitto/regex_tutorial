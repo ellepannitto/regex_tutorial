{
 "cells": [
  {
   "cell_type": "markdown",
   "metadata": {},
   "source": [
    "## Importing the interpreter in `python`\n",
    "\n",
    "Python's module for implementing regex is called `re`: <https://docs.python.org/3/library/re.html#module-re>\n",
    "\n",
    "This is a standard library, so no installation is needed!\n",
    "\n",
    "Another popular module is `regex` (<https://pypi.org/project/regex/>), which offers some additional functionality, more specifically it provides full unicode support.\n",
    "This has to be explicitly installed (e.g., through `pip`)."
   ]
  },
  {
   "cell_type": "code",
   "execution_count": 2,
   "metadata": {},
   "outputs": [],
   "source": [
    "import re"
   ]
  },
  {
   "cell_type": "markdown",
   "metadata": {},
   "source": [
    "We will use the `findall` function:\n",
    "<https://docs.python.org/3/library/re.html#re.findall>\n",
    "```\n",
    "re.findall(pattern, string, flags=0)\n",
    " \tReturn all non-overlapping matches of pattern in string, as a list of strings or tuples. The string is scanned left-to-right, and matches are returned in the order found. Empty matches are included in the result.\n",
    "\tThe result depends on the number of capturing groups in the pattern. If there are no groups, return a list of strings matching the whole pattern. If there is exactly one group, return a list of strings matching that group. If multiple groups are present, return a list of tuples of strings matching the groups. Non-capturing groups do not affect the form of the result.\n",
    "```"
   ]
  },
  {
   "cell_type": "markdown",
   "metadata": {},
   "source": [
    "## A string is itself a regular expression\n",
    "\n",
    "The simplest case of regular expression is a string itself\n",
    "\n",
    "e.g., `r\"contro\"` which represents the regular language `L = {\"contro\"}`\n",
    "\n",
    "NB: the `r` placed right before the definition of the python string ensures that the string is interpreted as a regular expression"
   ]
  },
  {
   "cell_type": "code",
   "execution_count": null,
   "metadata": {},
   "outputs": [
    {
     "data": {
      "text/plain": [
       "['contro']"
      ]
     },
     "execution_count": 2,
     "metadata": {},
     "output_type": "execute_result"
    }
   ],
   "source": [
    "text = \"alla fine è uscito il sole, contro ogni aspettativa\"\n",
    "re.findall(r\"contro\", text)"
   ]
  },
  {
   "cell_type": "code",
   "execution_count": 3,
   "metadata": {},
   "outputs": [
    {
     "data": {
      "text/plain": [
       "['contro']"
      ]
     },
     "execution_count": 3,
     "metadata": {},
     "output_type": "execute_result"
    }
   ],
   "source": [
    "text = \"per favore, controlla se è arrivata la posta!\"\n",
    "re.findall(r\"contro\", text)"
   ]
  },
  {
   "cell_type": "markdown",
   "metadata": {},
   "source": [
    "## Alternation\n",
    "\n",
    "We can extend our language by introducing more options...\n",
    "\n",
    "`|` indicates the union of two matches (i.e., `or`)"
   ]
  },
  {
   "cell_type": "code",
   "execution_count": 4,
   "metadata": {},
   "outputs": [
    {
     "data": {
      "text/plain": [
       "['giorno', 'sera']"
      ]
     },
     "execution_count": 4,
     "metadata": {},
     "output_type": "execute_result"
    }
   ],
   "source": [
    "text = \"Filastrocca di primavera più lungo è il giorno, più dolce la sera.\"\n",
    "\n",
    "re.findall(r\"giorno|sera\", text)"
   ]
  },
  {
   "cell_type": "code",
   "execution_count": 5,
   "metadata": {},
   "outputs": [
    {
     "data": {
      "text/plain": [
       "['sera']"
      ]
     },
     "execution_count": 5,
     "metadata": {},
     "output_type": "execute_result"
    }
   ],
   "source": [
    "text = \"per favore, controlla se è arrivata la posta stasera!\"\n",
    "re.findall(r\"giorno|sera\", text)"
   ]
  },
  {
   "cell_type": "markdown",
   "metadata": {},
   "source": [
    "## Quantifiers\n",
    "\n",
    "The easiest way to extend the language is to repeat characters:\n",
    "\n",
    "- `*` $\\to$ 0 to multiple occurrences\n",
    "- `+` $\\to$ 1 to multiple occurrences \n",
    "- `{x, y}` $\\to$ x to y matches (we can also have `{x}` for exactly `x`, `{, y}` for at most `y` or `{x,}` for at least `x`)\n",
    "- `?` is a shortcut for `{0,1}`\n",
    "\n",
    "e.g. `r\"mu?ore\"` which represents the regular language `L = {\"muore\", \"more\"}`"
   ]
  },
  {
   "cell_type": "code",
   "execution_count": 7,
   "metadata": {},
   "outputs": [
    {
     "data": {
      "text/plain": [
       "['a', 'aa', 'aaa', 'aaaa', 'aaaaa', 'aaaaaa', 'aaaaaaa']"
      ]
     },
     "execution_count": 7,
     "metadata": {},
     "output_type": "execute_result"
    }
   ],
   "source": [
    "text = \"a aa aaa aaaa aaaaa aaaaaa aaaaaaa\"\n",
    "\n",
    "re.findall(r\"a+\", text)"
   ]
  },
  {
   "cell_type": "code",
   "execution_count": 8,
   "metadata": {},
   "outputs": [
    {
     "data": {
      "text/plain": [
       "['a',\n",
       " '',\n",
       " 'aa',\n",
       " '',\n",
       " 'aaa',\n",
       " '',\n",
       " 'aaaa',\n",
       " '',\n",
       " 'aaaaa',\n",
       " '',\n",
       " 'aaaaaa',\n",
       " '',\n",
       " 'aaaaaaa',\n",
       " '']"
      ]
     },
     "execution_count": 8,
     "metadata": {},
     "output_type": "execute_result"
    }
   ],
   "source": [
    "re.findall(r\"a*\", text)"
   ]
  },
  {
   "cell_type": "code",
   "execution_count": 9,
   "metadata": {},
   "outputs": [
    {
     "data": {
      "text/plain": [
       "['aa', 'aaa', 'aaaa', 'aaaaa', 'aaaaaa', 'aaaaaaa']"
      ]
     },
     "execution_count": 9,
     "metadata": {},
     "output_type": "execute_result"
    }
   ],
   "source": [
    "re.findall(r\"a{2,}\", text)"
   ]
  },
  {
   "cell_type": "code",
   "execution_count": 10,
   "metadata": {},
   "outputs": [
    {
     "data": {
      "text/plain": [
       "['aa', 'aaa', 'aaaa', 'aaaaa', 'aaaaa', 'aaaaa', 'aa']"
      ]
     },
     "execution_count": 10,
     "metadata": {},
     "output_type": "execute_result"
    }
   ],
   "source": [
    "re.findall(r\"a{2,5}\", text)"
   ]
  },
  {
   "cell_type": "markdown",
   "metadata": {},
   "source": [
    "## Special characters in regular expressions\n",
    "\n",
    "Now we know how to match more or less any character on our keyboard.\n",
    "\n",
    "There's something more we need to know:\n",
    "\n",
    "- in principle it's possible to match `tabulations` by typing the actual `[TAB]` character, but not all editors allow doing so and it's pretty incovenient to have such long expressions, so the `[TAB]` character is expressed by the regex `r\"\\t\"`\n",
    "- matching usually works line by line, so the `newline` needs a special sequence in order to be matched, and that is `r\"\\n\"`\n",
    "- Finally, can you match a full stop? "
   ]
  },
  {
   "cell_type": "code",
   "execution_count": 9,
   "metadata": {},
   "outputs": [
    {
     "data": {
      "text/plain": [
       "[',', ',', ',', ',', ',']"
      ]
     },
     "execution_count": 9,
     "metadata": {},
     "output_type": "execute_result"
    }
   ],
   "source": [
    "text = \"\"\"\n",
    "I wandered lonely as a cloud\n",
    "That floats on high o'er vales and hills,\n",
    "When all at once I saw a crowd,\n",
    "A host, of golden daffodils;\n",
    "Beside the lake, beneath the trees,\n",
    "Fluttering and dancing in the breeze.\n",
    "\"\"\"\n",
    "\n",
    "re.findall(r\",\", text)"
   ]
  },
  {
   "cell_type": "code",
   "execution_count": 10,
   "metadata": {},
   "outputs": [
    {
     "data": {
      "text/plain": [
       "[';']"
      ]
     },
     "execution_count": 10,
     "metadata": {},
     "output_type": "execute_result"
    }
   ],
   "source": [
    "re.findall(r\";\", text)\n"
   ]
  },
  {
   "cell_type": "code",
   "execution_count": 11,
   "metadata": {},
   "outputs": [
    {
     "data": {
      "text/plain": [
       "['I',\n",
       " ' ',\n",
       " 'w',\n",
       " 'a',\n",
       " 'n',\n",
       " 'd',\n",
       " 'e',\n",
       " 'r',\n",
       " 'e',\n",
       " 'd',\n",
       " ' ',\n",
       " 'l',\n",
       " 'o',\n",
       " 'n',\n",
       " 'e',\n",
       " 'l',\n",
       " 'y',\n",
       " ' ',\n",
       " 'a',\n",
       " 's',\n",
       " ' ',\n",
       " 'a',\n",
       " ' ',\n",
       " 'c',\n",
       " 'l',\n",
       " 'o',\n",
       " 'u',\n",
       " 'd',\n",
       " 'T',\n",
       " 'h',\n",
       " 'a',\n",
       " 't',\n",
       " ' ',\n",
       " 'f',\n",
       " 'l',\n",
       " 'o',\n",
       " 'a',\n",
       " 't',\n",
       " 's',\n",
       " ' ',\n",
       " 'o',\n",
       " 'n',\n",
       " ' ',\n",
       " 'h',\n",
       " 'i',\n",
       " 'g',\n",
       " 'h',\n",
       " ' ',\n",
       " 'o',\n",
       " \"'\",\n",
       " 'e',\n",
       " 'r',\n",
       " ' ',\n",
       " 'v',\n",
       " 'a',\n",
       " 'l',\n",
       " 'e',\n",
       " 's',\n",
       " ' ',\n",
       " 'a',\n",
       " 'n',\n",
       " 'd',\n",
       " ' ',\n",
       " 'h',\n",
       " 'i',\n",
       " 'l',\n",
       " 'l',\n",
       " 's',\n",
       " ',',\n",
       " 'W',\n",
       " 'h',\n",
       " 'e',\n",
       " 'n',\n",
       " ' ',\n",
       " 'a',\n",
       " 'l',\n",
       " 'l',\n",
       " ' ',\n",
       " 'a',\n",
       " 't',\n",
       " ' ',\n",
       " 'o',\n",
       " 'n',\n",
       " 'c',\n",
       " 'e',\n",
       " ' ',\n",
       " 'I',\n",
       " ' ',\n",
       " 's',\n",
       " 'a',\n",
       " 'w',\n",
       " ' ',\n",
       " 'a',\n",
       " ' ',\n",
       " 'c',\n",
       " 'r',\n",
       " 'o',\n",
       " 'w',\n",
       " 'd',\n",
       " ',',\n",
       " 'A',\n",
       " ' ',\n",
       " 'h',\n",
       " 'o',\n",
       " 's',\n",
       " 't',\n",
       " ',',\n",
       " ' ',\n",
       " 'o',\n",
       " 'f',\n",
       " ' ',\n",
       " 'g',\n",
       " 'o',\n",
       " 'l',\n",
       " 'd',\n",
       " 'e',\n",
       " 'n',\n",
       " ' ',\n",
       " 'd',\n",
       " 'a',\n",
       " 'f',\n",
       " 'f',\n",
       " 'o',\n",
       " 'd',\n",
       " 'i',\n",
       " 'l',\n",
       " 's',\n",
       " ';',\n",
       " 'B',\n",
       " 'e',\n",
       " 's',\n",
       " 'i',\n",
       " 'd',\n",
       " 'e',\n",
       " ' ',\n",
       " 't',\n",
       " 'h',\n",
       " 'e',\n",
       " ' ',\n",
       " 'l',\n",
       " 'a',\n",
       " 'k',\n",
       " 'e',\n",
       " ',',\n",
       " ' ',\n",
       " 'b',\n",
       " 'e',\n",
       " 'n',\n",
       " 'e',\n",
       " 'a',\n",
       " 't',\n",
       " 'h',\n",
       " ' ',\n",
       " 't',\n",
       " 'h',\n",
       " 'e',\n",
       " ' ',\n",
       " 't',\n",
       " 'r',\n",
       " 'e',\n",
       " 'e',\n",
       " 's',\n",
       " ',',\n",
       " 'F',\n",
       " 'l',\n",
       " 'u',\n",
       " 't',\n",
       " 't',\n",
       " 'e',\n",
       " 'r',\n",
       " 'i',\n",
       " 'n',\n",
       " 'g',\n",
       " ' ',\n",
       " 'a',\n",
       " 'n',\n",
       " 'd',\n",
       " ' ',\n",
       " 'd',\n",
       " 'a',\n",
       " 'n',\n",
       " 'c',\n",
       " 'i',\n",
       " 'n',\n",
       " 'g',\n",
       " ' ',\n",
       " 'i',\n",
       " 'n',\n",
       " ' ',\n",
       " 't',\n",
       " 'h',\n",
       " 'e',\n",
       " ' ',\n",
       " 'b',\n",
       " 'r',\n",
       " 'e',\n",
       " 'e',\n",
       " 'z',\n",
       " 'e',\n",
       " '.']"
      ]
     },
     "execution_count": 11,
     "metadata": {},
     "output_type": "execute_result"
    }
   ],
   "source": [
    "re.findall(r\".\", text)"
   ]
  },
  {
   "cell_type": "markdown",
   "metadata": {},
   "source": [
    "The character `.` has a special meaning when it's expressed within a regex, and it means `any character but newline`.\n",
    "\n",
    "So what if we wanted to match `breeze.`, for instance?\n",
    "\n",
    "We should add an escape character (`\\`) before the full stop!\n",
    "\n",
    "Think about it, we already used the escape character before.\n",
    "`\\t` tells the interpreter: \"do not match `t` as you usually would, but interpret it in some other way\"\n",
    "\n",
    "This is also true for some other characters, like `(`, `)`, `[`, `]`, `{`, `}`, `+`, `*` that bear a special meaning within the regex language. We already saw when to use `{`, `}`, `+`, `*`, we'll see shortly about the others."
   ]
  },
  {
   "cell_type": "code",
   "execution_count": 12,
   "metadata": {},
   "outputs": [
    {
     "data": {
      "text/plain": [
       "['.']"
      ]
     },
     "execution_count": 12,
     "metadata": {},
     "output_type": "execute_result"
    }
   ],
   "source": [
    "re.findall(r\"\\.\", text)"
   ]
  },
  {
   "cell_type": "markdown",
   "metadata": {},
   "source": [
    "### Questions:\n",
    "\n",
    "- what happens if you match `r\"breeze.\"` without escaping the `.`. \n",
    "- Can you demonstrate your hypothesis, by building some ad-hoc text?"
   ]
  },
  {
   "cell_type": "markdown",
   "metadata": {},
   "source": [
    "## Classes of characters\n",
    "\n",
    "Matching explicitly is not very useful if you want to express a language like `L = {all words of length 3}`.\n",
    "\n",
    "At the moment, if we want to express `any letter in the alphabet` we'd need to write an expression like `r\"a|b|c|d|e|f...\"`. Quite inconvenient.\n",
    "\n",
    "Just like `.` means any character, regex interpreters are also able to interpret some special sequences associated to classes of characters that are often matched by users:\n",
    "\n",
    "- `r\"\\w\"` matches any alphanumeric character\n",
    "- `r\"\\d\"` matches any digit\n",
    "- `r\"\\s\"` matches any space-line character (i.e., tabulations, standard spaces, newlines)\n",
    "\n",
    "\n",
    "Always check [syntax specifications](https://docs.python.org/3/library/re.html#regular-expression-syntax) of the interpreter you're using!"
   ]
  },
  {
   "cell_type": "code",
   "execution_count": 15,
   "metadata": {},
   "outputs": [
    {
     "data": {
      "text/plain": [
       "['1', '1', '9', '9', '0']"
      ]
     },
     "execution_count": 15,
     "metadata": {},
     "output_type": "execute_result"
    }
   ],
   "source": [
    "text = \"My name is John. I was born on Jan 1st 1990.\"\n",
    "\n",
    "re.findall(r\"\\d\", text)\n"
   ]
  },
  {
   "cell_type": "markdown",
   "metadata": {},
   "source": [
    "### Questions:\n",
    "\n",
    "Consider this text:\n",
    "```\n",
    "text = \"\"\"\n",
    "I wandered lonely as a cloud\n",
    "That floats on high o'er vales and hills,\n",
    "When all at once I saw a crowd,\n",
    "A host, of golden daffodils;\n",
    "Beside the lake, beneath the trees,\n",
    "Fluttering and dancing in the breeze.\n",
    "\"\"\"\n",
    "```\n",
    "\n",
    "\n",
    "- try and match any sequence of alphanumeric characters of length at most 3\n",
    "- any sequence of characters of length exactly 3, preceded and followed by spaces\n",
    "- any sequence composed by a space, a variable number of alphanumeric characters and a comma"
   ]
  },
  {
   "cell_type": "markdown",
   "metadata": {},
   "source": [
    "We can also define a personalized class of characters, by using square brackets.\n",
    "\n",
    "For instance, there's no pre-defined meta sequence for vowels but we can define:\n",
    "\n",
    "`r\"[aeiou]\"` for `r\"a|e|i|o|u\"`\n",
    "\n",
    "\n",
    "Square brackets also support ranges:\n",
    "\n",
    "- `r\"[0-9]\"` is the same as saying `r\"\\d\"`, but we can also define `r\"[0-3]\"` for instance\n",
    "- `[a-z]` means all alphabetical letters from `a` to `z` (lowercased, pay attention to encoding!)\n",
    "- and so on..."
   ]
  },
  {
   "cell_type": "markdown",
   "metadata": {},
   "source": [
    "### Questions\n",
    "\n"
   ]
  }
 ],
 "metadata": {
  "kernelspec": {
   "display_name": "Python 3",
   "language": "python",
   "name": "python3"
  },
  "language_info": {
   "codemirror_mode": {
    "name": "ipython",
    "version": 3
   },
   "file_extension": ".py",
   "mimetype": "text/x-python",
   "name": "python",
   "nbconvert_exporter": "python",
   "pygments_lexer": "ipython3",
   "version": "3.10.12"
  }
 },
 "nbformat": 4,
 "nbformat_minor": 2
}
